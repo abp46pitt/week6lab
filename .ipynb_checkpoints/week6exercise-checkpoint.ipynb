{
 "cells": [
  {
   "cell_type": "code",
   "execution_count": 2,
   "metadata": {
    "tags": []
   },
   "outputs": [
    {
     "name": "stdin",
     "output_type": "stream",
     "text": [
      "What is your name? Andrew\n",
      "How old are you? 21\n"
     ]
    },
    {
     "name": "stdout",
     "output_type": "stream",
     "text": [
      "Hello, Andrew. You are 21 years old\n"
     ]
    },
    {
     "name": "stdin",
     "output_type": "stream",
     "text": [
      "What is your favorite fruit? Apples\n"
     ]
    },
    {
     "name": "stdout",
     "output_type": "stream",
     "text": [
      "Apples are your favorite fruit\n"
     ]
    }
   ],
   "source": [
    "name = input(prompt=\"What is your name?\")\n",
    "#This takes the name of the user and stores it in the variable name\n",
    "age = input(prompt=\"How old are you?\")\n",
    "#This takes the age of the user and stores it in the variable age\n",
    "print(\"Hello,\", name + \". You are\", age, \"years old\")\n",
    "#Print the variables name and age in a nice welcome message to the user\n",
    "fruit=input(prompt=\"What is your favorite fruit?\")\n",
    "#Ask the user for their favorite fruit and store it in the variable fruit\n",
    "print(fruit+\" are your favorite fruit\")\n",
    "#Print the fruit variable in a declaration statement"
   ]
  },
  {
   "cell_type": "code",
   "execution_count": null,
   "metadata": {},
   "outputs": [],
   "source": []
  }
 ],
 "metadata": {
  "kernelspec": {
   "display_name": "Python 3",
   "language": "python",
   "name": "python3"
  },
  "language_info": {
   "codemirror_mode": {
    "name": "ipython",
    "version": 3
   },
   "file_extension": ".py",
   "mimetype": "text/x-python",
   "name": "python",
   "nbconvert_exporter": "python",
   "pygments_lexer": "ipython3",
   "version": "3.8.3"
  }
 },
 "nbformat": 4,
 "nbformat_minor": 4
}
